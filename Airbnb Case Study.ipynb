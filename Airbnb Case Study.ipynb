{
 "cells": [
  {
   "cell_type": "code",
   "execution_count": 1,
   "metadata": {},
   "outputs": [],
   "source": [
    "import pandas as pd \n",
    "import numpy as np\n",
    "import seaborn as sns"
   ]
  },
  {
   "cell_type": "code",
   "execution_count": 2,
   "metadata": {},
   "outputs": [],
   "source": [
    "my_data=pd.read_csv(\"airbnb prices.csv\")"
   ]
  },
  {
   "cell_type": "code",
   "execution_count": 3,
   "metadata": {},
   "outputs": [
    {
     "data": {
      "text/plain": [
       "Index(['room_id', 'survey_id', 'host_id', 'room_type', 'country', 'city',\n",
       "       'borough', 'neighborhood', 'reviews', 'overall_satisfaction',\n",
       "       'accommodates', 'bedrooms', 'bathrooms', 'price', 'minstay', 'name',\n",
       "       'last_modified', 'latitude', 'longitude', 'location'],\n",
       "      dtype='object')"
      ]
     },
     "execution_count": 3,
     "metadata": {},
     "output_type": "execute_result"
    }
   ],
   "source": [
    "my_data.dtypes\n",
    "my_data.columns"
   ]
  },
  {
   "cell_type": "markdown",
   "metadata": {},
   "source": [
    "\n",
    "<br>\n",
    "==============================================================================<br>\n",
    "checking Room id for any nans or wrong entries<br>\n",
    "==============================================================================<br>\n"
   ]
  },
  {
   "cell_type": "code",
   "execution_count": 4,
   "metadata": {},
   "outputs": [
    {
     "data": {
      "text/plain": [
       "False    18723\n",
       "dtype: int64"
      ]
     },
     "execution_count": 4,
     "metadata": {},
     "output_type": "execute_result"
    }
   ],
   "source": [
    "my_data['room_id'].hasnans\n",
    "rid_unique=np.unique(my_data[\"room_id\"])\n",
    "pd.value_counts(my_data.duplicated(subset=['room_id']))"
   ]
  },
  {
   "cell_type": "markdown",
   "metadata": {},
   "source": [
    "\n",
    " <br>\n",
    "==============================================================================<br>\n",
    "no missing or wrong entries found<br>\n",
    "Survey id is the survey number airbnb has done so it is same for every record<br>\n",
    "and is insignificant in this case so it is being dropped.<br>\n",
    "==============================================================================<br>\n"
   ]
  },
  {
   "cell_type": "code",
   "execution_count": 5,
   "metadata": {},
   "outputs": [],
   "source": [
    "my_data.drop(columns=['survey_id'],inplace=True)"
   ]
  },
  {
   "cell_type": "markdown",
   "metadata": {},
   "source": [
    "\n",
    " <br>\n",
    "==============================================================================<br>\n",
    "Checking host id for any nans or wrong entries<br>\n",
    "==============================================================================<br>\n"
   ]
  },
  {
   "cell_type": "code",
   "execution_count": 6,
   "metadata": {},
   "outputs": [
    {
     "data": {
      "text/plain": [
       "48703385     93\n",
       "113977564    88\n",
       "1464510      71\n",
       "107745142    64\n",
       "84453740     61\n",
       "             ..\n",
       "37868735      1\n",
       "5405902       1\n",
       "5414086       1\n",
       "8645832       1\n",
       "1771519       1\n",
       "Name: host_id, Length: 15943, dtype: int64"
      ]
     },
     "execution_count": 6,
     "metadata": {},
     "output_type": "execute_result"
    }
   ],
   "source": [
    "my_data['host_id'].hasnans\n",
    "hid_unique=np.unique(my_data[\"host_id\"])\n",
    "pd.value_counts(my_data.duplicated(subset=['host_id']))\n",
    "pd.value_counts(my_data[\"host_id\"])"
   ]
  },
  {
   "cell_type": "markdown",
   "metadata": {},
   "source": [
    "\n",
    "<br>\n",
    "==============================================================================<br>\n",
    "2780 hosts have multiple listings<br>\n",
    "host id : 48703385 has maximum number of listing 93<br>\n",
    "==============================================================================<br>\n"
   ]
  },
  {
   "cell_type": "markdown",
   "metadata": {},
   "source": [
    "\n",
    "<br>\n",
    "==============================================================================<br>\n",
    "Checking room type for any nans or wrong entries<br>\n",
    "==============================================================================<br>\n"
   ]
  },
  {
   "cell_type": "code",
   "execution_count": 7,
   "metadata": {},
   "outputs": [
    {
     "data": {
      "text/plain": [
       "array(['Entire home/apt', 'Private room', 'Shared room'], dtype=object)"
      ]
     },
     "execution_count": 7,
     "metadata": {},
     "output_type": "execute_result"
    }
   ],
   "source": [
    "my_data['room_type'].hasnans\n",
    "rtype_unique=np.unique(my_data['room_type'])\n",
    "pd.value_counts(my_data.duplicated(subset=['room_type']))\n",
    "pd.value_counts(my_data['room_type'])\n",
    "np.unique(my_data['room_type'])"
   ]
  },
  {
   "cell_type": "markdown",
   "metadata": {},
   "source": [
    "\n",
    "<br>\n",
    "==============================================================================<br>\n",
    "Shared roomtype is very less as compared to others so will be dropping that.<br>\n",
    "==============================================================================<br>\n"
   ]
  },
  {
   "cell_type": "code",
   "execution_count": 8,
   "metadata": {},
   "outputs": [
    {
     "data": {
      "text/html": [
       "<div>\n",
       "<style scoped>\n",
       "    .dataframe tbody tr th:only-of-type {\n",
       "        vertical-align: middle;\n",
       "    }\n",
       "\n",
       "    .dataframe tbody tr th {\n",
       "        vertical-align: top;\n",
       "    }\n",
       "\n",
       "    .dataframe thead th {\n",
       "        text-align: right;\n",
       "    }\n",
       "</style>\n",
       "<table border=\"1\" class=\"dataframe\">\n",
       "  <thead>\n",
       "    <tr style=\"text-align: right;\">\n",
       "      <th></th>\n",
       "      <th>room_id</th>\n",
       "      <th>host_id</th>\n",
       "      <th>room_type</th>\n",
       "      <th>country</th>\n",
       "      <th>city</th>\n",
       "      <th>borough</th>\n",
       "      <th>neighborhood</th>\n",
       "      <th>reviews</th>\n",
       "      <th>overall_satisfaction</th>\n",
       "      <th>accommodates</th>\n",
       "      <th>bedrooms</th>\n",
       "      <th>bathrooms</th>\n",
       "      <th>price</th>\n",
       "      <th>minstay</th>\n",
       "      <th>name</th>\n",
       "      <th>last_modified</th>\n",
       "      <th>latitude</th>\n",
       "      <th>longitude</th>\n",
       "      <th>location</th>\n",
       "    </tr>\n",
       "  </thead>\n",
       "  <tbody>\n",
       "    <tr>\n",
       "      <th>0</th>\n",
       "      <td>10201214</td>\n",
       "      <td>8497487</td>\n",
       "      <td>Entire home/apt</td>\n",
       "      <td>NaN</td>\n",
       "      <td>Amsterdam</td>\n",
       "      <td>NaN</td>\n",
       "      <td>Ijburg / Eiland Zeeburg</td>\n",
       "      <td>19</td>\n",
       "      <td>5.0</td>\n",
       "      <td>8</td>\n",
       "      <td>4.0</td>\n",
       "      <td>NaN</td>\n",
       "      <td>763.0</td>\n",
       "      <td>NaN</td>\n",
       "      <td>Beautiful Watervilla in Amsterdam</td>\n",
       "      <td>2017-07-23 13:02:10.468528</td>\n",
       "      <td>52.348254</td>\n",
       "      <td>5.001477</td>\n",
       "      <td>0101000020E6100000E7C8CA2F83011440C0594A96932C...</td>\n",
       "    </tr>\n",
       "    <tr>\n",
       "      <th>1</th>\n",
       "      <td>3119298</td>\n",
       "      <td>15847782</td>\n",
       "      <td>Entire home/apt</td>\n",
       "      <td>NaN</td>\n",
       "      <td>Amsterdam</td>\n",
       "      <td>NaN</td>\n",
       "      <td>Westerpark</td>\n",
       "      <td>1</td>\n",
       "      <td>0.0</td>\n",
       "      <td>8</td>\n",
       "      <td>3.0</td>\n",
       "      <td>NaN</td>\n",
       "      <td>445.0</td>\n",
       "      <td>NaN</td>\n",
       "      <td>Modern 5-8 person apartment</td>\n",
       "      <td>2017-07-23 12:58:15.945759</td>\n",
       "      <td>52.377581</td>\n",
       "      <td>4.873119</td>\n",
       "      <td>0101000020E61000009D103AE8127E1340A54BFF925430...</td>\n",
       "    </tr>\n",
       "    <tr>\n",
       "      <th>2</th>\n",
       "      <td>5372074</td>\n",
       "      <td>14390964</td>\n",
       "      <td>Entire home/apt</td>\n",
       "      <td>NaN</td>\n",
       "      <td>Amsterdam</td>\n",
       "      <td>NaN</td>\n",
       "      <td>Centrum West</td>\n",
       "      <td>10</td>\n",
       "      <td>5.0</td>\n",
       "      <td>4</td>\n",
       "      <td>3.0</td>\n",
       "      <td>NaN</td>\n",
       "      <td>721.0</td>\n",
       "      <td>NaN</td>\n",
       "      <td>Prinsengracht Appartement</td>\n",
       "      <td>2017-07-23 12:52:40.980471</td>\n",
       "      <td>52.373078</td>\n",
       "      <td>4.884269</td>\n",
       "      <td>0101000020E61000006C770FD07D891340B56D1805C12F...</td>\n",
       "    </tr>\n",
       "    <tr>\n",
       "      <th>3</th>\n",
       "      <td>10511291</td>\n",
       "      <td>5421078</td>\n",
       "      <td>Entire home/apt</td>\n",
       "      <td>NaN</td>\n",
       "      <td>Amsterdam</td>\n",
       "      <td>NaN</td>\n",
       "      <td>Watergraafsmeer</td>\n",
       "      <td>1</td>\n",
       "      <td>0.0</td>\n",
       "      <td>8</td>\n",
       "      <td>3.0</td>\n",
       "      <td>NaN</td>\n",
       "      <td>1412.0</td>\n",
       "      <td>NaN</td>\n",
       "      <td>Whole house 200m2 Frankendael Park</td>\n",
       "      <td>2017-07-23 12:30:42.249974</td>\n",
       "      <td>52.350968</td>\n",
       "      <td>4.929821</td>\n",
       "      <td>0101000020E61000003B8908FF22B81340A5F8F884EC2C...</td>\n",
       "    </tr>\n",
       "    <tr>\n",
       "      <th>4</th>\n",
       "      <td>18047871</td>\n",
       "      <td>9302267</td>\n",
       "      <td>Entire home/apt</td>\n",
       "      <td>NaN</td>\n",
       "      <td>Amsterdam</td>\n",
       "      <td>NaN</td>\n",
       "      <td>Centrum West</td>\n",
       "      <td>0</td>\n",
       "      <td>0.0</td>\n",
       "      <td>4</td>\n",
       "      <td>4.0</td>\n",
       "      <td>NaN</td>\n",
       "      <td>541.0</td>\n",
       "      <td>NaN</td>\n",
       "      <td>Great 4 bedroom apartment at the flower market</td>\n",
       "      <td>2017-07-23 12:30:27.637777</td>\n",
       "      <td>52.367890</td>\n",
       "      <td>4.889273</td>\n",
       "      <td>0101000020E6100000FDDCD0949D8E13404243FF04172F...</td>\n",
       "    </tr>\n",
       "    <tr>\n",
       "      <th>...</th>\n",
       "      <td>...</td>\n",
       "      <td>...</td>\n",
       "      <td>...</td>\n",
       "      <td>...</td>\n",
       "      <td>...</td>\n",
       "      <td>...</td>\n",
       "      <td>...</td>\n",
       "      <td>...</td>\n",
       "      <td>...</td>\n",
       "      <td>...</td>\n",
       "      <td>...</td>\n",
       "      <td>...</td>\n",
       "      <td>...</td>\n",
       "      <td>...</td>\n",
       "      <td>...</td>\n",
       "      <td>...</td>\n",
       "      <td>...</td>\n",
       "      <td>...</td>\n",
       "      <td>...</td>\n",
       "    </tr>\n",
       "    <tr>\n",
       "      <th>18655</th>\n",
       "      <td>17789893</td>\n",
       "      <td>47501089</td>\n",
       "      <td>Private room</td>\n",
       "      <td>NaN</td>\n",
       "      <td>Amsterdam</td>\n",
       "      <td>NaN</td>\n",
       "      <td>Bijlmer Centrum</td>\n",
       "      <td>10</td>\n",
       "      <td>5.0</td>\n",
       "      <td>3</td>\n",
       "      <td>1.0</td>\n",
       "      <td>NaN</td>\n",
       "      <td>32.0</td>\n",
       "      <td>NaN</td>\n",
       "      <td>1-3 pers. Cozy Rm AFAS Live, ArenA, ZIGGODOME</td>\n",
       "      <td>2017-07-22 16:05:14.158963</td>\n",
       "      <td>52.319794</td>\n",
       "      <td>4.955638</td>\n",
       "      <td>0101000020E6100000684293C492D2134080BA8102EF28...</td>\n",
       "    </tr>\n",
       "    <tr>\n",
       "      <th>18656</th>\n",
       "      <td>16877166</td>\n",
       "      <td>67093870</td>\n",
       "      <td>Private room</td>\n",
       "      <td>NaN</td>\n",
       "      <td>Amsterdam</td>\n",
       "      <td>NaN</td>\n",
       "      <td>Bijlmer Centrum</td>\n",
       "      <td>6</td>\n",
       "      <td>5.0</td>\n",
       "      <td>4</td>\n",
       "      <td>1.0</td>\n",
       "      <td>NaN</td>\n",
       "      <td>24.0</td>\n",
       "      <td>NaN</td>\n",
       "      <td>Modern Room by Arena, ZIGGO, HmH</td>\n",
       "      <td>2017-07-22 16:05:14.151986</td>\n",
       "      <td>52.319080</td>\n",
       "      <td>4.954822</td>\n",
       "      <td>0101000020E61000005801BEDBBCD1134062670A9DD728...</td>\n",
       "    </tr>\n",
       "    <tr>\n",
       "      <th>18657</th>\n",
       "      <td>19859427</td>\n",
       "      <td>29724632</td>\n",
       "      <td>Private room</td>\n",
       "      <td>NaN</td>\n",
       "      <td>Amsterdam</td>\n",
       "      <td>NaN</td>\n",
       "      <td>Geuzenveld / Slotermeer</td>\n",
       "      <td>0</td>\n",
       "      <td>0.0</td>\n",
       "      <td>1</td>\n",
       "      <td>1.0</td>\n",
       "      <td>NaN</td>\n",
       "      <td>38.0</td>\n",
       "      <td>NaN</td>\n",
       "      <td>Private single room</td>\n",
       "      <td>2017-07-22 16:05:14.149610</td>\n",
       "      <td>52.384028</td>\n",
       "      <td>4.838403</td>\n",
       "      <td>0101000020E61000002079E750865A1340C85F5AD42731...</td>\n",
       "    </tr>\n",
       "    <tr>\n",
       "      <th>18658</th>\n",
       "      <td>17132164</td>\n",
       "      <td>115156569</td>\n",
       "      <td>Private room</td>\n",
       "      <td>NaN</td>\n",
       "      <td>Amsterdam</td>\n",
       "      <td>NaN</td>\n",
       "      <td>Centrum West</td>\n",
       "      <td>13</td>\n",
       "      <td>4.5</td>\n",
       "      <td>2</td>\n",
       "      <td>1.0</td>\n",
       "      <td>NaN</td>\n",
       "      <td>36.0</td>\n",
       "      <td>NaN</td>\n",
       "      <td>City Center studio in Touristic Amsterdam 1</td>\n",
       "      <td>2017-07-22 16:05:14.146183</td>\n",
       "      <td>52.372120</td>\n",
       "      <td>4.890982</td>\n",
       "      <td>0101000020E6100000774CDD955D9013400118CFA0A12F...</td>\n",
       "    </tr>\n",
       "    <tr>\n",
       "      <th>18659</th>\n",
       "      <td>7605782</td>\n",
       "      <td>39503013</td>\n",
       "      <td>Private room</td>\n",
       "      <td>NaN</td>\n",
       "      <td>Amsterdam</td>\n",
       "      <td>NaN</td>\n",
       "      <td>Centrum West</td>\n",
       "      <td>113</td>\n",
       "      <td>4.5</td>\n",
       "      <td>2</td>\n",
       "      <td>1.0</td>\n",
       "      <td>NaN</td>\n",
       "      <td>35.0</td>\n",
       "      <td>NaN</td>\n",
       "      <td>I have a room available for rent</td>\n",
       "      <td>2017-07-22 16:05:12.257054</td>\n",
       "      <td>52.381392</td>\n",
       "      <td>4.899658</td>\n",
       "      <td>0101000020E6100000CD565EF23F9913405F7AFB73D130...</td>\n",
       "    </tr>\n",
       "  </tbody>\n",
       "</table>\n",
       "<p>18660 rows × 19 columns</p>\n",
       "</div>"
      ],
      "text/plain": [
       "        room_id    host_id        room_type  country       city  borough  \\\n",
       "0      10201214    8497487  Entire home/apt      NaN  Amsterdam      NaN   \n",
       "1       3119298   15847782  Entire home/apt      NaN  Amsterdam      NaN   \n",
       "2       5372074   14390964  Entire home/apt      NaN  Amsterdam      NaN   \n",
       "3      10511291    5421078  Entire home/apt      NaN  Amsterdam      NaN   \n",
       "4      18047871    9302267  Entire home/apt      NaN  Amsterdam      NaN   \n",
       "...         ...        ...              ...      ...        ...      ...   \n",
       "18655  17789893   47501089     Private room      NaN  Amsterdam      NaN   \n",
       "18656  16877166   67093870     Private room      NaN  Amsterdam      NaN   \n",
       "18657  19859427   29724632     Private room      NaN  Amsterdam      NaN   \n",
       "18658  17132164  115156569     Private room      NaN  Amsterdam      NaN   \n",
       "18659   7605782   39503013     Private room      NaN  Amsterdam      NaN   \n",
       "\n",
       "                  neighborhood  reviews  overall_satisfaction  accommodates  \\\n",
       "0      Ijburg / Eiland Zeeburg       19                   5.0             8   \n",
       "1                   Westerpark        1                   0.0             8   \n",
       "2                 Centrum West       10                   5.0             4   \n",
       "3              Watergraafsmeer        1                   0.0             8   \n",
       "4                 Centrum West        0                   0.0             4   \n",
       "...                        ...      ...                   ...           ...   \n",
       "18655          Bijlmer Centrum       10                   5.0             3   \n",
       "18656          Bijlmer Centrum        6                   5.0             4   \n",
       "18657  Geuzenveld / Slotermeer        0                   0.0             1   \n",
       "18658             Centrum West       13                   4.5             2   \n",
       "18659             Centrum West      113                   4.5             2   \n",
       "\n",
       "       bedrooms  bathrooms   price  minstay  \\\n",
       "0           4.0        NaN   763.0      NaN   \n",
       "1           3.0        NaN   445.0      NaN   \n",
       "2           3.0        NaN   721.0      NaN   \n",
       "3           3.0        NaN  1412.0      NaN   \n",
       "4           4.0        NaN   541.0      NaN   \n",
       "...         ...        ...     ...      ...   \n",
       "18655       1.0        NaN    32.0      NaN   \n",
       "18656       1.0        NaN    24.0      NaN   \n",
       "18657       1.0        NaN    38.0      NaN   \n",
       "18658       1.0        NaN    36.0      NaN   \n",
       "18659       1.0        NaN    35.0      NaN   \n",
       "\n",
       "                                                 name  \\\n",
       "0                   Beautiful Watervilla in Amsterdam   \n",
       "1                         Modern 5-8 person apartment   \n",
       "2                           Prinsengracht Appartement   \n",
       "3                  Whole house 200m2 Frankendael Park   \n",
       "4      Great 4 bedroom apartment at the flower market   \n",
       "...                                               ...   \n",
       "18655   1-3 pers. Cozy Rm AFAS Live, ArenA, ZIGGODOME   \n",
       "18656                Modern Room by Arena, ZIGGO, HmH   \n",
       "18657                             Private single room   \n",
       "18658     City Center studio in Touristic Amsterdam 1   \n",
       "18659                I have a room available for rent   \n",
       "\n",
       "                    last_modified   latitude  longitude  \\\n",
       "0      2017-07-23 13:02:10.468528  52.348254   5.001477   \n",
       "1      2017-07-23 12:58:15.945759  52.377581   4.873119   \n",
       "2      2017-07-23 12:52:40.980471  52.373078   4.884269   \n",
       "3      2017-07-23 12:30:42.249974  52.350968   4.929821   \n",
       "4      2017-07-23 12:30:27.637777  52.367890   4.889273   \n",
       "...                           ...        ...        ...   \n",
       "18655  2017-07-22 16:05:14.158963  52.319794   4.955638   \n",
       "18656  2017-07-22 16:05:14.151986  52.319080   4.954822   \n",
       "18657  2017-07-22 16:05:14.149610  52.384028   4.838403   \n",
       "18658  2017-07-22 16:05:14.146183  52.372120   4.890982   \n",
       "18659  2017-07-22 16:05:12.257054  52.381392   4.899658   \n",
       "\n",
       "                                                location  \n",
       "0      0101000020E6100000E7C8CA2F83011440C0594A96932C...  \n",
       "1      0101000020E61000009D103AE8127E1340A54BFF925430...  \n",
       "2      0101000020E61000006C770FD07D891340B56D1805C12F...  \n",
       "3      0101000020E61000003B8908FF22B81340A5F8F884EC2C...  \n",
       "4      0101000020E6100000FDDCD0949D8E13404243FF04172F...  \n",
       "...                                                  ...  \n",
       "18655  0101000020E6100000684293C492D2134080BA8102EF28...  \n",
       "18656  0101000020E61000005801BEDBBCD1134062670A9DD728...  \n",
       "18657  0101000020E61000002079E750865A1340C85F5AD42731...  \n",
       "18658  0101000020E6100000774CDD955D9013400118CFA0A12F...  \n",
       "18659  0101000020E6100000CD565EF23F9913405F7AFB73D130...  \n",
       "\n",
       "[18660 rows x 19 columns]"
      ]
     },
     "execution_count": 8,
     "metadata": {},
     "output_type": "execute_result"
    }
   ],
   "source": [
    "my_data.drop(my_data.loc[my_data['room_type']=='Shared room'].index,inplace=True)\n",
    "my_data.reset_index(drop=True)"
   ]
  },
  {
   "cell_type": "markdown",
   "metadata": {},
   "source": [
    "\n",
    " <br>\n",
    "==============================================================================<br>\n",
    "Dropped shared room Entries from the data.<br>\n",
    "==============================================================================<br>\n"
   ]
  },
  {
   "cell_type": "markdown",
   "metadata": {},
   "source": [
    "\n",
    "<br>\n",
    "==============================================================================<br>\n",
    " Checking Country for any nans or wrong entries<br>\n",
    "==============================================================================<br>\n"
   ]
  },
  {
   "cell_type": "code",
   "execution_count": 9,
   "metadata": {},
   "outputs": [
    {
     "data": {
      "text/plain": [
       "array([nan, nan, nan, ..., nan, nan, nan])"
      ]
     },
     "execution_count": 9,
     "metadata": {},
     "output_type": "execute_result"
    }
   ],
   "source": [
    "my_data['country'].hasnans\n",
    "pd.value_counts(my_data.duplicated(subset=['country']))\n",
    "pd.value_counts(my_data['country'])\n",
    "np.unique(my_data['country'])"
   ]
  },
  {
   "cell_type": "markdown",
   "metadata": {},
   "source": [
    "\n",
    " <br>\n",
    "==============================================================================<br>\n",
    "Since country is empty and all the values are nan it is being dropped<br>\n",
    "==============================================================================<br>\n"
   ]
  },
  {
   "cell_type": "code",
   "execution_count": 10,
   "metadata": {},
   "outputs": [],
   "source": [
    "my_data.drop(columns=['country'],inplace=True)"
   ]
  },
  {
   "cell_type": "markdown",
   "metadata": {},
   "source": [
    "\n",
    "<br>\n",
    "==============================================================================<br>\n",
    " Checking 'city' for any nans or wrong entries<br>\n",
    "==============================================================================<br>\n"
   ]
  },
  {
   "cell_type": "code",
   "execution_count": 11,
   "metadata": {},
   "outputs": [
    {
     "data": {
      "text/plain": [
       "array(['Amsterdam'], dtype=object)"
      ]
     },
     "execution_count": 11,
     "metadata": {},
     "output_type": "execute_result"
    }
   ],
   "source": [
    "my_data['city'].hasnans\n",
    "pd.value_counts(my_data.duplicated(subset=['city']))\n",
    "pd.value_counts(my_data['city'])\n",
    "np.unique(my_data['city'])"
   ]
  },
  {
   "cell_type": "markdown",
   "metadata": {},
   "source": [
    "\n",
    "<br>\n",
    "==============================================================================<br>\n",
    "All data is from Amsterdam so it doesnt affect data in any way so it is also <br>\n",
    "being dropped<br>\n",
    "==============================================================================<br>\n"
   ]
  },
  {
   "cell_type": "code",
   "execution_count": 12,
   "metadata": {},
   "outputs": [],
   "source": [
    "my_data.drop(columns=['city'],inplace=True)"
   ]
  },
  {
   "cell_type": "markdown",
   "metadata": {},
   "source": [
    "\n",
    "<br>\n",
    "==============================================================================<br>\n",
    "city is dropped<br>\n",
    "==============================================================================<br>\n"
   ]
  },
  {
   "cell_type": "markdown",
   "metadata": {},
   "source": [
    "\n",
    "<br>\n",
    "==============================================================================<br>\n",
    " Checking 'borough' for any nans or wrong entries<br>\n",
    "===============================================================================<br>\n"
   ]
  },
  {
   "cell_type": "code",
   "execution_count": 13,
   "metadata": {},
   "outputs": [
    {
     "data": {
      "text/plain": [
       "array([nan, nan, nan, ..., nan, nan, nan])"
      ]
     },
     "execution_count": 13,
     "metadata": {},
     "output_type": "execute_result"
    }
   ],
   "source": [
    "my_data['borough'].hasnans\n",
    "pd.value_counts(my_data.duplicated(subset=['borough']))\n",
    "pd.value_counts(my_data['borough'])\n",
    "np.unique(my_data['borough'])"
   ]
  },
  {
   "cell_type": "markdown",
   "metadata": {},
   "source": [
    "\n",
    " <br>\n",
    "==============================================================================<br>\n",
    "Since borough is empty and all the values are nan it is being dropped<br>\n",
    "==============================================================================<br>\n"
   ]
  },
  {
   "cell_type": "code",
   "execution_count": 14,
   "metadata": {},
   "outputs": [],
   "source": [
    "my_data.drop(columns=['borough'],inplace=True)"
   ]
  },
  {
   "cell_type": "markdown",
   "metadata": {},
   "source": [
    "\n",
    "<br>\n",
    "==============================================================================<br>\n",
    "borough is dropped<br>\n",
    "==============================================================================<br>\n"
   ]
  },
  {
   "cell_type": "markdown",
   "metadata": {},
   "source": [
    "\n",
    "<br>\n",
    "==============================================================================<br>\n",
    " Checking 'neighborhood' for any nans or wrong entries<br>\n",
    "===============================================================================<br>\n"
   ]
  },
  {
   "cell_type": "code",
   "execution_count": 15,
   "metadata": {},
   "outputs": [
    {
     "data": {
      "text/plain": [
       "array(['Bijlmer Centrum', 'Bijlmer Oost', 'Bos en Lommer',\n",
       "       'Buitenveldert / Zuidas', 'Centrum Oost', 'Centrum West',\n",
       "       'De Aker / Nieuw Sloten', 'De Baarsjes / Oud West',\n",
       "       'De Pijp / Rivierenbuurt', 'Gaasperdam / Driemond',\n",
       "       'Geuzenveld / Slotermeer', 'Ijburg / Eiland Zeeburg', 'Noord Oost',\n",
       "       'Noord West', 'Noord-West / Noord-Midden',\n",
       "       'Oostelijk Havengebied / Indische Buurt', 'Osdorp', 'Oud Noord',\n",
       "       'Oud Oost', 'Slotervaart', 'Watergraafsmeer', 'Westerpark',\n",
       "       'Westpoort'], dtype=object)"
      ]
     },
     "execution_count": 15,
     "metadata": {},
     "output_type": "execute_result"
    }
   ],
   "source": [
    "my_data['neighborhood'].hasnans\n",
    "pd.value_counts(my_data.duplicated(subset=['neighborhood']))\n",
    "n_hood_count=pd.value_counts(my_data['neighborhood'])\n",
    "np.unique(my_data['neighborhood'])"
   ]
  },
  {
   "cell_type": "markdown",
   "metadata": {},
   "source": [
    "\n",
    "<br>\n",
    "==============================================================================<br>\n",
    "There are Total 23 Neighbourhoods.<br>\n",
    "De Baarsjes / Oud West  has the most number of listings : 3280 whereas <br>\n",
    "Westpoort has Least number of listings: 15<br>\n",
    "==============================================================================<br>\n"
   ]
  },
  {
   "cell_type": "markdown",
   "metadata": {},
   "source": [
    "\n",
    "<br>\n",
    "==============================================================================<br>\n",
    " Checking 'Reviews' for any nans or wrong entries<br>\n",
    "===============================================================================<br>\n"
   ]
  },
  {
   "cell_type": "code",
   "execution_count": 16,
   "metadata": {},
   "outputs": [
    {
     "data": {
      "text/plain": [
       "room_id                                                           4289398\n",
       "host_id                                                           6333496\n",
       "room_type                                                 Entire home/apt\n",
       "neighborhood                                      De Pijp / Rivierenbuurt\n",
       "reviews                                                                 0\n",
       "overall_satisfaction                                                  0.0\n",
       "accommodates                                                            4\n",
       "bedrooms                                                              2.0\n",
       "bathrooms                                                             NaN\n",
       "price                                                               359.0\n",
       "minstay                                                               NaN\n",
       "name                                  Lux Light & Cosy Apartment near RAI\n",
       "last_modified                                  2017-07-23 06:00:10.153434\n",
       "latitude                                                        52.348296\n",
       "longitude                                                        4.886997\n",
       "location                0101000020E6100000B7990AF1488C1340EFA99CF6942C...\n",
       "Name: 532, dtype: object"
      ]
     },
     "execution_count": 16,
     "metadata": {},
     "output_type": "execute_result"
    }
   ],
   "source": [
    "my_data['reviews'].hasnans\n",
    "pd.value_counts(my_data['reviews'])\n",
    "np.unique(my_data['reviews'])\n",
    "my_data.loc[my_data['reviews'].max()]"
   ]
  },
  {
   "cell_type": "markdown",
   "metadata": {},
   "source": [
    "\n",
    "<br>\n",
    "===============================================================================<br>\n",
    "room_id :4289398<br>\n",
    "host_id : 6333496<br>\n",
    "room_type: Entire home/apt<br>\n",
    "price : 359.0<br>\n",
    "accommodates :  4<br>\n",
    "bedrooms :2.0<br>\n",
    "neighborhood: De Pijp / Rivierenbuurt<br>\n",
    "Has the maximun number of Reviews 532<br>\n",
    "===============================================================================<br>\n"
   ]
  },
  {
   "cell_type": "markdown",
   "metadata": {},
   "source": [
    "\n",
    "<br>\n",
    "==============================================================================<br>\n",
    " Checking 'overall_satisfaction' for any nans or wrong entries<br>\n",
    "===============================================================================<br>\n"
   ]
  },
  {
   "cell_type": "code",
   "execution_count": 17,
   "metadata": {},
   "outputs": [
    {
     "data": {
      "text/plain": [
       "array([0. , 1. , 2.5, 3. , 3.5, 4. , 4.5, 5. ])"
      ]
     },
     "execution_count": 17,
     "metadata": {},
     "output_type": "execute_result"
    }
   ],
   "source": [
    "my_data['overall_satisfaction'].hasnans\n",
    "pd.value_counts(my_data['overall_satisfaction'])\n",
    "np.unique(my_data['overall_satisfaction'])"
   ]
  },
  {
   "cell_type": "markdown",
   "metadata": {},
   "source": [
    "\n",
    "<br>\n",
    "===============================================================================<br>\n",
    "There are 7697 listings with 5 overall satisfaction rating and 5721 listings<br>\n",
    "with 0 overall satisfaction. <br>\n",
    "===============================================================================<br>\n"
   ]
  },
  {
   "cell_type": "markdown",
   "metadata": {},
   "source": [
    "\n",
    "<br>\n",
    "==============================================================================<br>\n",
    " Checking 'accommodates' for any nans or wrong entries<br>\n",
    "===============================================================================<br>\n"
   ]
  },
  {
   "cell_type": "code",
   "execution_count": 18,
   "metadata": {},
   "outputs": [
    {
     "data": {
      "text/plain": [
       "array([ 1,  2,  3,  4,  5,  6,  7,  8,  9, 10, 11, 12, 13, 14, 16, 17],\n",
       "      dtype=int64)"
      ]
     },
     "execution_count": 18,
     "metadata": {},
     "output_type": "execute_result"
    }
   ],
   "source": [
    "my_data['accommodates'].hasnans\n",
    "pd.value_counts(my_data['accommodates'])\n",
    "np.unique(my_data['accommodates'])"
   ]
  },
  {
   "cell_type": "markdown",
   "metadata": {},
   "source": [
    "\n",
    "<br>\n",
    "===============================================================================<br>\n",
    "Almost 90% of the houses accomodate 2,3 and 4 people<br>\n",
    "===============================================================================<br>\n"
   ]
  },
  {
   "cell_type": "markdown",
   "metadata": {},
   "source": [
    "\n",
    "<br>\n",
    "==============================================================================<br>\n",
    " Checking 'bedrooms' for any nans or wrong entries<br>\n",
    "===============================================================================<br>\n"
   ]
  },
  {
   "cell_type": "code",
   "execution_count": 19,
   "metadata": {},
   "outputs": [
    {
     "data": {
      "text/plain": [
       "array([ 0.,  1.,  2.,  3.,  4.,  5.,  6.,  7.,  8.,  9., 10.])"
      ]
     },
     "execution_count": 19,
     "metadata": {},
     "output_type": "execute_result"
    }
   ],
   "source": [
    "my_data['bedrooms'].hasnans\n",
    "pd.value_counts(my_data['bedrooms'])\n",
    "np.unique(my_data['bedrooms'])"
   ]
  },
  {
   "cell_type": "markdown",
   "metadata": {},
   "source": [
    "\n",
    "<br>\n",
    "===============================================================================<br>\n",
    "Almost 90% of the houses are Either studio or with 1,2 or 3 bedrooms<br>\n",
    "==============================================================================<br>\n"
   ]
  },
  {
   "cell_type": "markdown",
   "metadata": {},
   "source": [
    "\n",
    "<br>\n",
    "==============================================================================<br>\n",
    " Checking 'Bathrooms' for any nans or wrong entries<br>\n",
    "===============================================================================<br>\n"
   ]
  },
  {
   "cell_type": "code",
   "execution_count": 20,
   "metadata": {},
   "outputs": [
    {
     "data": {
      "text/plain": [
       "<AxesSubplot:xlabel='bedrooms', ylabel='count'>"
      ]
     },
     "execution_count": 20,
     "metadata": {},
     "output_type": "execute_result"
    },
    {
     "data": {
      "image/png": "[encoded data removed]",
      "text/plain": [
       "<Figure size 432x288 with 1 Axes>"
      ]
     },
     "metadata": {
      "needs_background": "light"
     },
     "output_type": "display_data"
    }
   ],
   "source": [
    "my_data['bathrooms'].hasnans\n",
    "pd.value_counts(my_data['bathrooms'])\n",
    "np.unique(my_data['bathrooms'])\n",
    "sns.countplot(x=my_data['bedrooms'])"
   ]
  },
  {
   "cell_type": "markdown",
   "metadata": {},
   "source": [
    "\n",
    "<br>\n",
    "===============================================================================<br>\n",
    "Since Bathrooms is Empty it is being dropped<br>\n",
    "==============================================================================<br>\n"
   ]
  },
  {
   "cell_type": "code",
   "execution_count": 21,
   "metadata": {},
   "outputs": [],
   "source": [
    "my_data.drop(columns=['bathrooms'],inplace=True)"
   ]
  },
  {
   "cell_type": "markdown",
   "metadata": {},
   "source": [
    "\n",
    "<br>\n",
    "===============================================================================<br>\n",
    "Bathrooms is dropped<br>\n",
    "==============================================================================<br>\n"
   ]
  },
  {
   "cell_type": "markdown",
   "metadata": {},
   "source": [
    "\n",
    "<br>\n",
    "==============================================================================<br>\n",
    " Checking 'Price' for any nans or wrong entries<br>\n",
    "===============================================================================<br>\n"
   ]
  },
  {
   "cell_type": "code",
   "execution_count": 22,
   "metadata": {},
   "outputs": [
    {
     "data": {
      "text/plain": [
       "12.0"
      ]
     },
     "execution_count": 22,
     "metadata": {},
     "output_type": "execute_result"
    }
   ],
   "source": [
    "my_data['price'].hasnans\n",
    "pd.value_counts(my_data['price'])\n",
    "np.unique(my_data['price'])\n",
    "my_data['price'].max()\n",
    "my_data['price'].min()"
   ]
  },
  {
   "cell_type": "markdown",
   "metadata": {},
   "source": [
    "\n",
    "<br>\n",
    "==============================================================================<br>\n",
    "Prices of the houses range from 12 euros to 6000 euros<br>\n",
    "==============================================================================<br>\n"
   ]
  },
  {
   "cell_type": "markdown",
   "metadata": {},
   "source": [
    "\n",
    "<br>\n",
    "==============================================================================<br>\n",
    " Checking 'minstay' for any nans or wrong entries<br>\n",
    "===============================================================================<br>\n"
   ]
  },
  {
   "cell_type": "code",
   "execution_count": 23,
   "metadata": {},
   "outputs": [
    {
     "data": {
      "text/plain": [
       "array([nan, nan, nan, ..., nan, nan, nan])"
      ]
     },
     "execution_count": 23,
     "metadata": {},
     "output_type": "execute_result"
    }
   ],
   "source": [
    "my_data['minstay'].hasnans\n",
    "pd.value_counts(my_data['minstay'])\n",
    "np.unique(my_data['minstay'])"
   ]
  },
  {
   "cell_type": "markdown",
   "metadata": {},
   "source": [
    "\n",
    "<br>\n",
    "==============================================================================<br>\n",
    " Since Minstay is empty it is not significant so it is being dropped<br>\n",
    "===============================================================================<br>\n"
   ]
  },
  {
   "cell_type": "code",
   "execution_count": 24,
   "metadata": {},
   "outputs": [],
   "source": [
    "my_data.drop(columns=['minstay'],inplace=True)"
   ]
  },
  {
   "cell_type": "markdown",
   "metadata": {},
   "source": [
    "\n",
    "<br>\n",
    "===============================================================================<br>\n",
    "minstay is dropped<br>\n",
    "==============================================================================<br>\n"
   ]
  },
  {
   "cell_type": "markdown",
   "metadata": {},
   "source": [
    "\n",
    "<br>\n",
    "==============================================================================<br>\n",
    "Analyzing bedroom with Price<br>\n",
    "==============================================================================<br>\n"
   ]
  },
  {
   "cell_type": "code",
   "execution_count": 25,
   "metadata": {},
   "outputs": [
    {
     "data": {
      "text/plain": [
       "<AxesSubplot:xlabel='bedrooms', ylabel='price'>"
      ]
     },
     "execution_count": 25,
     "metadata": {},
     "output_type": "execute_result"
    },
    {
     "data": {
      "image/png": "[encoded data removed]",
      "text/plain": [
       "<Figure size 432x288 with 1 Axes>"
      ]
     },
     "metadata": {
      "needs_background": "light"
     },
     "output_type": "display_data"
    }
   ],
   "source": [
    "b_p_nd=my_data[['bedrooms','price']]\n",
    "b_p_cr=b_p_nd.corr()\n",
    "b_p_nd.corr()\n",
    "sns.barplot(x=my_data[\"bedrooms\"],y=my_data['price'])"
   ]
  },
  {
   "cell_type": "markdown",
   "metadata": {},
   "source": [
    "\n",
    "<br>\n",
    "==============================================================================<br>\n",
    "There is Positive corelation of 0.44 between bedrooms and price hence it may <br>\n",
    "affect price positively<br>\n",
    "==============================================================================<br>\n"
   ]
  },
  {
   "cell_type": "markdown",
   "metadata": {},
   "source": [
    "\n",
    "<br>\n",
    "==============================================================================<br>\n",
    "Analyzing Reviews with Price<br>\n",
    "==============================================================================<br>\n"
   ]
  },
  {
   "cell_type": "code",
   "execution_count": 26,
   "metadata": {},
   "outputs": [
    {
     "data": {
      "text/html": [
       "<div>\n",
       "<style scoped>\n",
       "    .dataframe tbody tr th:only-of-type {\n",
       "        vertical-align: middle;\n",
       "    }\n",
       "\n",
       "    .dataframe tbody tr th {\n",
       "        vertical-align: top;\n",
       "    }\n",
       "\n",
       "    .dataframe thead th {\n",
       "        text-align: right;\n",
       "    }\n",
       "</style>\n",
       "<table border=\"1\" class=\"dataframe\">\n",
       "  <thead>\n",
       "    <tr style=\"text-align: right;\">\n",
       "      <th></th>\n",
       "      <th>reviews</th>\n",
       "      <th>price</th>\n",
       "    </tr>\n",
       "  </thead>\n",
       "  <tbody>\n",
       "    <tr>\n",
       "      <th>reviews</th>\n",
       "      <td>1.000000</td>\n",
       "      <td>-0.084763</td>\n",
       "    </tr>\n",
       "    <tr>\n",
       "      <th>price</th>\n",
       "      <td>-0.084763</td>\n",
       "      <td>1.000000</td>\n",
       "    </tr>\n",
       "  </tbody>\n",
       "</table>\n",
       "</div>"
      ],
      "text/plain": [
       "          reviews     price\n",
       "reviews  1.000000 -0.084763\n",
       "price   -0.084763  1.000000"
      ]
     },
     "execution_count": 26,
     "metadata": {},
     "output_type": "execute_result"
    }
   ],
   "source": [
    "r_p_nd=my_data[['reviews','price']]\n",
    "r_p_cr=r_p_nd.corr()\n",
    "r_p_nd.corr()"
   ]
  },
  {
   "cell_type": "markdown",
   "metadata": {},
   "source": [
    "\n",
    "<br>\n",
    "==============================================================================<br>\n",
    "Reviews does not show any significant relationship with price.<br>\n",
    "==============================================================================<br>\n"
   ]
  },
  {
   "cell_type": "markdown",
   "metadata": {},
   "source": [
    "\n",
    "<br>\n",
    "==============================================================================<br>\n",
    "Analyzing Overall Satisfaction with Price<br>\n",
    "==============================================================================<br>\n"
   ]
  },
  {
   "cell_type": "code",
   "execution_count": 27,
   "metadata": {},
   "outputs": [
    {
     "data": {
      "text/html": [
       "<div>\n",
       "<style scoped>\n",
       "    .dataframe tbody tr th:only-of-type {\n",
       "        vertical-align: middle;\n",
       "    }\n",
       "\n",
       "    .dataframe tbody tr th {\n",
       "        vertical-align: top;\n",
       "    }\n",
       "\n",
       "    .dataframe thead th {\n",
       "        text-align: right;\n",
       "    }\n",
       "</style>\n",
       "<table border=\"1\" class=\"dataframe\">\n",
       "  <thead>\n",
       "    <tr style=\"text-align: right;\">\n",
       "      <th></th>\n",
       "      <th>overall_satisfaction</th>\n",
       "      <th>price</th>\n",
       "    </tr>\n",
       "  </thead>\n",
       "  <tbody>\n",
       "    <tr>\n",
       "      <th>overall_satisfaction</th>\n",
       "      <td>1.000000</td>\n",
       "      <td>-0.045524</td>\n",
       "    </tr>\n",
       "    <tr>\n",
       "      <th>price</th>\n",
       "      <td>-0.045524</td>\n",
       "      <td>1.000000</td>\n",
       "    </tr>\n",
       "  </tbody>\n",
       "</table>\n",
       "</div>"
      ],
      "text/plain": [
       "                      overall_satisfaction     price\n",
       "overall_satisfaction              1.000000 -0.045524\n",
       "price                            -0.045524  1.000000"
      ]
     },
     "execution_count": 27,
     "metadata": {},
     "output_type": "execute_result"
    }
   ],
   "source": [
    "os_p_nd=my_data[['overall_satisfaction','price']]\n",
    "os_p_cr=os_p_nd.corr()\n",
    "os_p_nd.corr()"
   ]
  },
  {
   "cell_type": "markdown",
   "metadata": {},
   "source": [
    "\n",
    "<br>\n",
    "==============================================================================<br>\n",
    "Overall Satisfaction does not show any significant relationship with price.<br>\n",
    "==============================================================================<br>\n"
   ]
  },
  {
   "cell_type": "markdown",
   "metadata": {},
   "source": [
    "\n",
    "<br>\n",
    "==============================================================================<br>\n",
    "Analyzing Accomodates with Price<br>\n",
    "==============================================================================<br>\n"
   ]
  },
  {
   "cell_type": "code",
   "execution_count": 28,
   "metadata": {},
   "outputs": [
    {
     "data": {
      "text/plain": [
       "<AxesSubplot:xlabel='accommodates', ylabel='price'>"
      ]
     },
     "execution_count": 28,
     "metadata": {},
     "output_type": "execute_result"
    },
    {
     "data": {
      "image/png": "[encoded data removed]",
      "text/plain": [
       "<Figure size 432x288 with 1 Axes>"
      ]
     },
     "metadata": {
      "needs_background": "light"
     },
     "output_type": "display_data"
    }
   ],
   "source": [
    "a_p_nd=my_data[['accommodates','price']]\n",
    "a_p_cr=os_p_nd.corr()\n",
    "a_p_nd.corr()\n",
    "sns.barplot(x=my_data['accommodates'],y=my_data['price'])"
   ]
  },
  {
   "cell_type": "markdown",
   "metadata": {},
   "source": [
    "\n",
    "<br>\n",
    "==============================================================================<br>\n",
    "There is Positive corelation of 0.5 between accommodates and price hence it may <br>\n",
    "affect price positively<br>\n",
    "==============================================================================<br>\n"
   ]
  },
  {
   "cell_type": "markdown",
   "metadata": {},
   "source": [
    "\n",
    "<br>\n",
    "==============================================================================<br>\n",
    "Analyzing Neighborhood with Price<br>\n",
    "==============================================================================<br>\n"
   ]
  },
  {
   "cell_type": "code",
   "execution_count": 32,
   "metadata": {},
   "outputs": [],
   "source": [
    "n_hood_data=my_data.groupby(\"neighborhood\")['price'].median()\n",
    "n_hood_data=n_hood_data.reset_index()\n",
    "n_hood_count=n_hood_count.reset_index()\n",
    "n_hood_data['price']=n_hood_data['price'].round(decimals=0)\n",
    "n_hood_data['price']=n_hood_data['price'].astype(int)\n",
    "n_hood_count.rename(columns={'index':'neighborhood','neighborhood':\"count\"},inplace=True)\n",
    "n_hood_data=n_hood_data.merge(n_hood_count,on=\"neighborhood\")"
   ]
  },
  {
   "cell_type": "code",
   "execution_count": 34,
   "metadata": {},
   "outputs": [
    {
     "data": {
      "text/plain": [
       "<AxesSubplot:xlabel='count', ylabel='neighborhood'>"
      ]
     },
     "execution_count": 34,
     "metadata": {},
     "output_type": "execute_result"
    },
    {
     "data": {
      "image/png": "[encoded data removed]",
      "text/plain": [
       "<Figure size 432x288 with 1 Axes>"
      ]
     },
     "metadata": {
      "needs_background": "light"
     },
     "output_type": "display_data"
    }
   ],
   "source": [
    "sns.barplot(y=n_hood_data['neighborhood'],x=n_hood_data['count'])"
   ]
  },
  {
   "cell_type": "code",
   "execution_count": 35,
   "metadata": {},
   "outputs": [
    {
     "data": {
      "text/plain": [
       "<AxesSubplot:xlabel='price', ylabel='count'>"
      ]
     },
     "execution_count": 35,
     "metadata": {},
     "output_type": "execute_result"
    },
    {
     "data": {
      "image/png": "[encoded data removed]",
      "text/plain": [
       "<Figure size 432x288 with 1 Axes>"
      ]
     },
     "metadata": {
      "needs_background": "light"
     },
     "output_type": "display_data"
    }
   ],
   "source": [
    "sns.barplot(y=n_hood_data['count'].sort_values(ascending=True),x=n_hood_data['price'])"
   ]
  },
  {
   "cell_type": "code",
   "execution_count": 36,
   "metadata": {},
   "outputs": [
    {
     "data": {
      "text/html": [
       "<div>\n",
       "<style scoped>\n",
       "    .dataframe tbody tr th:only-of-type {\n",
       "        vertical-align: middle;\n",
       "    }\n",
       "\n",
       "    .dataframe tbody tr th {\n",
       "        vertical-align: top;\n",
       "    }\n",
       "\n",
       "    .dataframe thead th {\n",
       "        text-align: right;\n",
       "    }\n",
       "</style>\n",
       "<table border=\"1\" class=\"dataframe\">\n",
       "  <thead>\n",
       "    <tr style=\"text-align: right;\">\n",
       "      <th></th>\n",
       "      <th>price</th>\n",
       "      <th>count</th>\n",
       "    </tr>\n",
       "  </thead>\n",
       "  <tbody>\n",
       "    <tr>\n",
       "      <th>price</th>\n",
       "      <td>1.000000</td>\n",
       "      <td>0.702705</td>\n",
       "    </tr>\n",
       "    <tr>\n",
       "      <th>count</th>\n",
       "      <td>0.702705</td>\n",
       "      <td>1.000000</td>\n",
       "    </tr>\n",
       "  </tbody>\n",
       "</table>\n",
       "</div>"
      ],
      "text/plain": [
       "          price     count\n",
       "price  1.000000  0.702705\n",
       "count  0.702705  1.000000"
      ]
     },
     "execution_count": 36,
     "metadata": {},
     "output_type": "execute_result"
    }
   ],
   "source": [
    "count_price_cr=n_hood_data.corr()\n",
    "n_hood_data.corr()"
   ]
  },
  {
   "cell_type": "markdown",
   "metadata": {},
   "source": [
    "\n",
    "<br>\n",
    "==============================================================================<br>\n",
    "There is Positive corelation of 0.7 between listings in a neighborhood and <br>\n",
    "median price in that neighborhood hence it may affect price positively<br>\n",
    "==============================================================================<br>\n"
   ]
  },
  {
   "cell_type": "code",
   "execution_count": null,
   "metadata": {},
   "outputs": [],
   "source": []
  }
 ],
 "metadata": {
  "kernelspec": {
   "display_name": "Python 3",
   "language": "python",
   "name": "python3"
  },
  "language_info": {
   "codemirror_mode": {
    "name": "ipython",
    "version": 3
   },
   "file_extension": ".py",
   "mimetype": "text/x-python",
   "name": "python",
   "nbconvert_exporter": "python",
   "pygments_lexer": "ipython3",
   "version": "3.8.8"
  }
 },
 "nbformat": 4,
 "nbformat_minor": 2
}
